{
 "cells": [
  {
   "cell_type": "markdown",
   "metadata": {},
   "source": [
    "## 数字识别——SVM"
   ]
  },
  {
   "cell_type": "code",
   "execution_count": 1,
   "metadata": {},
   "outputs": [],
   "source": [
    "import numpy as np"
   ]
  },
  {
   "cell_type": "code",
   "execution_count": null,
   "metadata": {},
   "outputs": [],
   "source": [
    "def smoP():\n",
    "    "
   ]
  },
  {
   "cell_type": "code",
   "execution_count": 2,
   "metadata": {},
   "outputs": [],
   "source": [
    "def selectJrand(i, m):\n",
    "    j = i\n",
    "    while j==i:\n",
    "        j = int(random.uniform(0, m))\n",
    "    return j\n",
    "\n",
    "def clipAlpha(aj, H, L):\n",
    "    if aj>H:\n",
    "        aj=H\n",
    "    if L > aj:\n",
    "        aj = L\n",
    "    return aj\n",
    "\n",
    "def smoSimple(dataMatIn, classLabels, C, total, maxIter): #total 容错率\n",
    "    dataMatrix = np.mat(dataMatIn)\n",
    "    labelMat = np.mat(classLabels).transpose()\n",
    "    b = 0\n",
    "    m,n = np.shape(dataMatrix)\n",
    "    alpha = np.mat(zeros((m,1)))\n",
    "    iter = 0\n",
    "    while iter<maxIter:\n",
    "        alphaPairsChanged=0 # alpha时候优化\n",
    "        for i in range(m):#fXi是预测类别\n",
    "            fXi = float(multiply(alpha, labelMat).T*(dataMatrix*dataMatrix[1,:].T))+b\n",
    "            Ei = fXi - float(labelMat[i])\n",
    "            if ((labelMat[i]*Ei< -toler) and (alphas[i]<C)) or((labelMat[i]*Ei>toler) and(alphas[i]>0)):\n",
    "                j = selectJrand(i, m) #fXj是真实类别\n",
    "                fXj = float(multiply(alphas, labelMat).T*(dataMatrix*dataMatrix[j,:].T))+b\n",
    "                Ej = fXj-float(labelMat[j])\n",
    "                alphaIold = alphas[i].copy() #python用引用方式传递所有列表\n",
    "                alphaJold = alphas[j].copy()\n",
    "                if labelMat[i]!=labelMat[j]:\n",
    "                    L = max(0, alphas[j]-alphas[i])\n",
    "                    H = min(C, C+alphas[j]-alphas[i])\n",
    "                else:\n",
    "                    L = max(0, alphas[j] + alphas[i] - C)\n",
    "                    H = min(C, alphas[j] + alphas[i])\n",
    "                if L==H:  #不能进行优化时，选择另一个alpha \n",
    "                    print(\"L==H\")\n",
    "                    continue #eta是alpha最优修改量\n",
    "                eta = 2.0*dataMatrix[i,:]*dataMatrix[i,:].T - dataMatrix[i,:]*dataMatrix[i,:].T - dataMatrix[j,:]*dataMatrix[j,:].T\n",
    "                if eta >= 0:\n",
    "                    print(\"eta>=0\")\n",
    "                    continue\n",
    "                alphas[j] -= labelMat[j]*(Ei-Ej)/eta  \n",
    "                alphas[j] = clipAlpha(alphas[j], H, L)\n",
    "                if (abs(alphas[j]-alphaJold)<0.00001):\n",
    "                    print(\"j not moving enough\")\n",
    "                    continue\n",
    "                alphas[i] += labelMat[j]*labelMat[i]*(alphaJold-alphas[j]) #支持向量\n",
    "                b1 = b-Ei-labelMat[i]*(alphas[i]-alphasIold)*dataMatrix[i,:]*dataMatrix[i,:].T-labelMat[j]*(alphas[j]-alphaJold)*dataMatrix[i,:]*dataMatrix[j,:].T\n",
    "                b2 = b-Ej-labelMat[i]*(alphas[i]-alphaIold)*dataMatrix[i,:]*dataMatrix[j,:].T - labelMat[j]*(alphas[j]-alphaJold)*dataMatrix[j,:]*dataMatrix[j,:].T\n",
    "                if (0<alphas[i])and (C>alphas[j]):\n",
    "                    b = b1\n",
    "                elif (0<alphas[j]) and (C>alphas[j]):\n",
    "                    b = b2\n",
    "                else:\n",
    "                    b = (b1+b2)/2.0\n",
    "                alphaPairsChanged +=1\n",
    "                print(\"iter:%d i:%d, pairs changed %d\"%(iter, i, alphaPairsChanged))\n",
    "        if alphaPairsChanged==0:\n",
    "            iter +=1\n",
    "        else:\n",
    "            iter = 0\n",
    "        print(\"iteration number:%d\"%iter)\n",
    "    return b, alphas\n",
    "                    "
   ]
  },
  {
   "cell_type": "code",
   "execution_count": null,
   "metadata": {},
   "outputs": [],
   "source": []
  },
  {
   "cell_type": "code",
   "execution_count": null,
   "metadata": {},
   "outputs": [],
   "source": [
    "def loadImage(dirName):\n",
    "    from os import listdir\n",
    "    hwLabels = []\n",
    "    trainingFileList = listdir(dirName)\n",
    "    m = len(trainingFileList)\n",
    "    trainingMat = zeros((m,1024))\n",
    "    for i in range(m):\n",
    "        fileNameStr = trainingFileList[i]\n",
    "        fileStr = fileNameStr.split('.')[0]\n",
    "        classNumStr = int(fileStr.split('_')[0])\n",
    "        if classNumStr == 9:\n",
    "            hwLabels.append(-1)\n",
    "        else:\n",
    "            hwLabels.append(1)\n",
    "        trainingMat[1,:] = img2vector('%s/%s'%(dirName, fileNameStr))\n",
    "    return trainingMat, hwLabels\n",
    "\n",
    "def testDigits(kTup=('rbf'， 10))：# rbf 径向基核\n",
    "    dataArr, labelArr = loadImages('trainingDigits')\n",
    "    b, alphas = smoP(dataArr, labelArr, 200, 0.0001, 10000, kTup)\n",
    "    datMat = np.mat(dataArr)\n",
    "    labelMat = np.mat(labelArr).transpose()\n",
    "    svInd = np.nonzero(alphas.A>0)[0]\n",
    "    sVs = datMat[svInd]\n",
    "    labelSV = labelMat[svInd]\n",
    "    print(\"there are %d Support Vectors\" % shape(sVs)[0])\n",
    "    m,n = shape(dataMat)\n",
    "    errorCount = 0\n",
    "    for i in range(m):\n",
    "        kernelEval = "
   ]
  }
 ],
 "metadata": {
  "kernelspec": {
   "display_name": "Python 3",
   "language": "python",
   "name": "python3"
  },
  "language_info": {
   "codemirror_mode": {
    "name": "ipython",
    "version": 3
   },
   "file_extension": ".py",
   "mimetype": "text/x-python",
   "name": "python",
   "nbconvert_exporter": "python",
   "pygments_lexer": "ipython3",
   "version": "3.6.3"
  }
 },
 "nbformat": 4,
 "nbformat_minor": 2
}
