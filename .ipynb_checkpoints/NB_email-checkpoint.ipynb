{
 "cells": [
  {
   "cell_type": "code",
   "execution_count": 1,
   "metadata": {},
   "outputs": [],
   "source": [
    "import numpy as np\n",
    "import re"
   ]
  },
  {
   "cell_type": "code",
   "execution_count": 2,
   "metadata": {},
   "outputs": [],
   "source": [
    "def createVocabList(dataSet):\n",
    "    vocabSet = set([])\n",
    "    for document in dataSet:\n",
    "        vocabSet = vocabSet | set(document)\n",
    "    return list(vocabSet)"
   ]
  },
  {
   "cell_type": "code",
   "execution_count": 3,
   "metadata": {},
   "outputs": [],
   "source": [
    "def setOfWords2Vec(vocabList, inputSet):\n",
    "    \"\"\"\n",
    "    把句子嵌入到词汇表中，也就是用表达一个句子\n",
    "    向量中为1，代表词汇表对应该处的词汇；反之，不对应该处词汇\n",
    "    \"\"\"\n",
    "    returnVec = [0]*len(vocabList)#初始化返回句子向量\n",
    "    for word in inputSet:\n",
    "        if word in vocabList:\n",
    "            returnVec[vocabList.index(word)]==1\n",
    "        else:\n",
    "            print(\"the word: %s is not in my VocabLary!\"%word)\n",
    "        return returnVec"
   ]
  },
  {
   "cell_type": "code",
   "execution_count": 4,
   "metadata": {},
   "outputs": [],
   "source": [
    "def bagOfWords2VecMN(vocabList, inputSet):\n",
    "    \"\"\"\n",
    "    文档的词袋模型\n",
    "    参数：\n",
    "        vocabList -- 词汇列表\n",
    "        inputSet -- 输入词集\n",
    "    返回：\n",
    "        returnVec -- 返回向量\n",
    "    \"\"\"\n",
    "    returnVec = [0]*len(vocabList)\n",
    "    for word in inputSet:\n",
    "        if word in vocabList:\n",
    "            returnVec[vocabList.index(word)]+=1\n",
    "    return returnVec"
   ]
  },
  {
   "cell_type": "code",
   "execution_count": 18,
   "metadata": {},
   "outputs": [],
   "source": [
    "def trainNB(trainMatrix, trainCategory):\n",
    "    \"\"\"\n",
    "    训练朴素贝叶斯分类器\n",
    "    参数：\n",
    "        trainMatrix -- 输入的训练矩阵\n",
    "        trainCategory -- 训练标签\n",
    "    返回：\n",
    "        p0Vect -- 非侮辱性词条概率\n",
    "        p1Vect -- 侮辱性词条概率\n",
    "        pAbusive -- 侮辱性概率\n",
    "    \"\"\"\n",
    "    numTrainDocs = len(trainMatrix)\n",
    "#     print(trainMatrix)\n",
    "    numWords = len(trainMatrix[0])\n",
    "    pAbusive = sum(trainCategory)/float(numTrainDocs) #激烈言辞\n",
    "    p0Num = np.ones(numWords)\n",
    "    p1Num = np.ones(numWords)\n",
    "    p0Denom = 2.0\n",
    "    p1Denom = 2.0\n",
    "    for i in range(numTrainDocs):\n",
    "        if trainCategory[i]==1:\n",
    "            p1Num += trainMatrix[i]\n",
    "            p1Denom += sum(trainMatrix[i])\n",
    "        else:\n",
    "            p0Num += trainMatrix[i]\n",
    "            p0Denom += sum(trainMatrix[i])\n",
    "    p1Vect = np.log(p1Num/p1Denom)\n",
    "    p0Vect = np.log(p0Num/p0Denom)\n",
    "    return p0Vect, p1Vect, pAbusive\n"
   ]
  },
  {
   "cell_type": "markdown",
   "metadata": {},
   "source": [
    "概率的计算采用贝叶斯公式 \n",
    "$$p(c_{i}|W)=\\frac{p(W|c_{i})p(c_{i})}{p(W)}$$\n",
    "又根据朴素假设，所有词汇概率统计独立 $$p(W|c_{i})=p(w_{0},w_{1},w_{2},...,w_{n}|c_{i})=p(w_{0}|c_{i})\\cdot p(w_{1}|c_{i})\\cdot p(w_{2}|c_{i})\\cdot ...\\cdot p(w_{n}|c_{i})$$"
   ]
  },
  {
   "cell_type": "code",
   "execution_count": 19,
   "metadata": {},
   "outputs": [],
   "source": [
    "def classifyNB(vec2Classify, p0Vec, p1Vec, pClass1):\n",
    "    \"\"\"\n",
    "    计算概率，比较概率，得出结果\n",
    "    由于所有概率均取了对数，所以乘法变加法，除法变减法\n",
    "    由于只需要比较相对大小，相同的p(W)也就不用除了\n",
    "    参数：\n",
    "        vec2Classify -- 要分类的文本向量\n",
    "        p0Vec -- p0向量\n",
    "        p1Vec -- p1向量\n",
    "        pClass1 -- 类别1的概率\n",
    "    返回：\n",
    "        判断结果 -- 0或1\n",
    "    \"\"\"\n",
    "    p1 = sum(vec2Classify * p1Vec)+ np.log(pClass1)\n",
    "    p0 = sum(vec2Classify * p0Vec)+np.log(1.0-pClass1)\n",
    "    if p1>p0:\n",
    "        return 1\n",
    "    else:\n",
    "        return 0"
   ]
  },
  {
   "cell_type": "markdown",
   "metadata": {},
   "source": [
    "### 过滤垃圾邮件"
   ]
  },
  {
   "cell_type": "code",
   "execution_count": 7,
   "metadata": {},
   "outputs": [],
   "source": [
    "def textParse(bigString):\n",
    "    import re\n",
    "    listOfTokens = re.split(r'\\W+', bigString)\n",
    "    return [tok.lower() for tok in listOfTokens if len(tok)>2]"
   ]
  },
  {
   "cell_type": "code",
   "execution_count": 16,
   "metadata": {},
   "outputs": [],
   "source": [
    "def spamTest():\n",
    "    docList= []\n",
    "    classList=[]\n",
    "    fullText = []\n",
    "    for i in range(1, 26): #遍历垃圾与正常邮件各25个\n",
    "        wordList = textParse(open('email/spam/%d.txt'%i, encoding='ISO-8859-1').read())\n",
    "        #列表\n",
    "        docList.append(wordList)\n",
    "        fullText.extend(wordList)\n",
    "        #类\n",
    "        classList.append(1)\n",
    "        wordList = textParse(open('email/ham/%d.txt'%i, encoding='ISO-8859-1').read())\n",
    "        docList.append(wordList)\n",
    "        fullText.extend(wordList)\n",
    "        classList.append(0)\n",
    "    vocabList = createVocabList(docList)\n",
    "    #训练集和测试集序号集\n",
    "    trainingSet = range(50)\n",
    "    testSet = []\n",
    "    for i in range(10):\n",
    "        randIndex = int(np.random.uniform(0,len(trainingSet)))\n",
    "        #序号对应的元素由训练集移动到测试集中\n",
    "        testSet.append(trainingSet[randIndex])\n",
    "        del(list(trainingSet)[randIndex])\n",
    "    trainMat = []\n",
    "    trainClasses=[]\n",
    "    #对应训练集中的标签\n",
    "    for docIndex in trainingSet:\n",
    "        trainMat.append(bagOfWords2VecMN(vocabList, docList[docIndex]))\n",
    "        trainClasses.append(classList[docIndex])\n",
    "    p0V, p1V, pSpam = trainNB(np.array(trainMat), np.array(trainClasses))\n",
    "    errorCount = 0\n",
    "    for docIndex in testSet:\n",
    "        #词袋向量\n",
    "        wordVector = bagOfWords2VecMN(vocabList, docList[docIndex])\n",
    "        if classifyNB(np.array(wordVector), p0V, p1V, pSpam) != classList[docIndex]:\n",
    "            errorCount +=1\n",
    "            print(\"classification error\", docList[docIndex])\n",
    "    print(\"the error rate is:\", float(errorCount)/len(testSet))"
   ]
  },
  {
   "cell_type": "code",
   "execution_count": 20,
   "metadata": {},
   "outputs": [
    {
     "name": "stdout",
     "output_type": "stream",
     "text": [
      "the error rate is: 0.0\n"
     ]
    }
   ],
   "source": [
    "spamTest()"
   ]
  }
 ],
 "metadata": {
  "kernelspec": {
   "display_name": "Python 3",
   "language": "python",
   "name": "python3"
  },
  "language_info": {
   "codemirror_mode": {
    "name": "ipython",
    "version": 3
   },
   "file_extension": ".py",
   "mimetype": "text/x-python",
   "name": "python",
   "nbconvert_exporter": "python",
   "pygments_lexer": "ipython3",
   "version": "3.6.3"
  }
 },
 "nbformat": 4,
 "nbformat_minor": 2
}
